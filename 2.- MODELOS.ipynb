{
 "cells": [
  {
   "cell_type": "code",
   "execution_count": 3,
   "id": "4ba958b1",
   "metadata": {},
   "outputs": [],
   "source": [
    "import sys\n",
    "from matplotlib import pyplot\n",
    "from keras.applications.vgg16 import VGG16\n",
    "from keras.models import Model\n",
    "from keras.layers import Dense\n",
    "from keras.layers import Flatten\n",
    "from tensorflow.keras.optimizers import SGD\n",
    "from keras.preprocessing.image import ImageDataGenerator\n",
    "from keras.layers import Dropout"
   ]
  },
  {
   "cell_type": "code",
   "execution_count": null,
   "id": "adca8f97",
   "metadata": {},
   "outputs": [],
   "source": [
    "model = VGG16(weights='imagenet',\n",
    "              include_top=False,\n",
    "              input_shape=(224, 224, 3))\n",
    "\n",
    "# mark loaded layers as not trainable\n",
    "for layer in model.layers:\n",
    "\tlayer.trainable = False\n",
    "    \n",
    "# add new classifier layers and dropout.\n",
    "flat1 = Flatten()(model.layers[-1].output)\n",
    "class1 = Dense(128,\n",
    "               activation='relu',\n",
    "               kernel_initializer='he_uniform')(flat1)\n",
    "class1 = Dropout(0.5)(class1)\n",
    "output = Dense(1,\n",
    "               activation='sigmoid')(class1)\n",
    "\n",
    "# define new model\n",
    "model = Model(inputs=model.inputs, outputs=output)\n",
    "\n",
    "# compile model\n",
    "opt = SGD(lr=0.001, momentum=0.9)\n",
    "model.compile(optimizer=opt,\n",
    "              loss='binary_crossentropy',\n",
    "              metrics=['accuracy', 'Recall', 'Precision'])"
   ]
  },
  {
   "cell_type": "code",
   "execution_count": 2,
   "id": "7022d034",
   "metadata": {},
   "outputs": [
    {
     "name": "stdout",
     "output_type": "stream",
     "text": [
      "Model: \"model\"\n",
      "_________________________________________________________________\n",
      "Layer (type)                 Output Shape              Param #   \n",
      "=================================================================\n",
      "input_1 (InputLayer)         [(None, 224, 224, 3)]     0         \n",
      "_________________________________________________________________\n",
      "block1_conv1 (Conv2D)        (None, 224, 224, 64)      1792      \n",
      "_________________________________________________________________\n",
      "block1_conv2 (Conv2D)        (None, 224, 224, 64)      36928     \n",
      "_________________________________________________________________\n",
      "block1_pool (MaxPooling2D)   (None, 112, 112, 64)      0         \n",
      "_________________________________________________________________\n",
      "block2_conv1 (Conv2D)        (None, 112, 112, 128)     73856     \n",
      "_________________________________________________________________\n",
      "block2_conv2 (Conv2D)        (None, 112, 112, 128)     147584    \n",
      "_________________________________________________________________\n",
      "block2_pool (MaxPooling2D)   (None, 56, 56, 128)       0         \n",
      "_________________________________________________________________\n",
      "block3_conv1 (Conv2D)        (None, 56, 56, 256)       295168    \n",
      "_________________________________________________________________\n",
      "block3_conv2 (Conv2D)        (None, 56, 56, 256)       590080    \n",
      "_________________________________________________________________\n",
      "block3_conv3 (Conv2D)        (None, 56, 56, 256)       590080    \n",
      "_________________________________________________________________\n",
      "block3_pool (MaxPooling2D)   (None, 28, 28, 256)       0         \n",
      "_________________________________________________________________\n",
      "block4_conv1 (Conv2D)        (None, 28, 28, 512)       1180160   \n",
      "_________________________________________________________________\n",
      "block4_conv2 (Conv2D)        (None, 28, 28, 512)       2359808   \n",
      "_________________________________________________________________\n",
      "block4_conv3 (Conv2D)        (None, 28, 28, 512)       2359808   \n",
      "_________________________________________________________________\n",
      "block4_pool (MaxPooling2D)   (None, 14, 14, 512)       0         \n",
      "_________________________________________________________________\n",
      "block5_conv1 (Conv2D)        (None, 14, 14, 512)       2359808   \n",
      "_________________________________________________________________\n",
      "block5_conv2 (Conv2D)        (None, 14, 14, 512)       2359808   \n",
      "_________________________________________________________________\n",
      "block5_conv3 (Conv2D)        (None, 14, 14, 512)       2359808   \n",
      "_________________________________________________________________\n",
      "block5_pool (MaxPooling2D)   (None, 7, 7, 512)         0         \n",
      "_________________________________________________________________\n",
      "flatten (Flatten)            (None, 25088)             0         \n",
      "_________________________________________________________________\n",
      "dense (Dense)                (None, 128)               3211392   \n",
      "_________________________________________________________________\n",
      "dropout (Dropout)            (None, 128)               0         \n",
      "_________________________________________________________________\n",
      "dense_1 (Dense)              (None, 1)                 129       \n",
      "=================================================================\n",
      "Total params: 17,926,209\n",
      "Trainable params: 3,211,521\n",
      "Non-trainable params: 14,714,688\n",
      "_________________________________________________________________\n"
     ]
    }
   ],
   "source": [
    "model.summary()"
   ]
  },
  {
   "cell_type": "code",
   "execution_count": 3,
   "id": "d873feaf",
   "metadata": {
    "scrolled": true
   },
   "outputs": [
    {
     "name": "stdout",
     "output_type": "stream",
     "text": [
      "Found 9000 images belonging to 2 classes.\n",
      "Found 3000 images belonging to 2 classes.\n",
      "{'0.-SinBacterias': 0, '1.-ConBacterias': 1}\n",
      "{'0.-SinBacterias': 0, '1.-ConBacterias': 1}\n",
      "141\n"
     ]
    }
   ],
   "source": [
    "model = model\n",
    "# create data generator\n",
    "datagen_train = ImageDataGenerator( featurewise_center=True, \n",
    "                                    rotation_range=30,\n",
    "                                    width_shift_range=0.2,\n",
    "                                    height_shift_range=0.2,\n",
    "                                    shear_range=15,\n",
    "                                    zoom_range=0.2,\n",
    "                                    horizontal_flip=True,\n",
    "                                    vertical_flip=True)\n",
    "\n",
    "datagen_test = ImageDataGenerator(  featurewise_center=True,\n",
    "                                    rotation_range=30,\n",
    "                                    width_shift_range=0.2,\n",
    "                                    height_shift_range=0.2,\n",
    "                                    shear_range=15,\n",
    "                                    zoom_range=0.2,\n",
    "                                    horizontal_flip=True,\n",
    "                                    vertical_flip=True)\n",
    "\n",
    "# specify imagenet mean values for centering\n",
    "datagen_train.mean = [123.68, 116.779, 103.939]\n",
    "datagen_test.mean = [123.68, 116.779, 103.939]\n",
    "\n",
    "# prepare iterator\n",
    "train_it = datagen_train.flow_from_directory('Dataset/train2/',\n",
    "\tclass_mode='binary', batch_size=64,\n",
    "    target_size=(224, 224), shuffle = True)\n",
    "\n",
    "test_it = datagen_test.flow_from_directory('Dataset/test2/',\n",
    "\tclass_mode='binary', batch_size=64,\n",
    "    target_size=(224, 224), shuffle = True)\n",
    "\n",
    "\n",
    "print(train_it.class_indices)\n",
    "print(test_it.class_indices)\n",
    "print(len(train_it) )"
   ]
  },
  {
   "cell_type": "code",
   "execution_count": 4,
   "id": "34c7a899",
   "metadata": {
    "collapsed": true
   },
   "outputs": [
    {
     "name": "stdout",
     "output_type": "stream",
     "text": [
      "Epoch 1/35\n",
      "20/20 [==============================] - 585s 29s/step - loss: 1.7528 - accuracy: 0.7597 - recall: 0.7249 - precision: 0.7638 - val_loss: 0.6097 - val_accuracy: 0.7812 - val_recall: 0.8204 - val_precision: 0.7882\n",
      "Epoch 2/35\n",
      "20/20 [==============================] - 625s 31s/step - loss: 0.4960 - accuracy: 0.8088 - recall: 0.8169 - precision: 0.7937 - val_loss: 0.4052 - val_accuracy: 0.8214 - val_recall: 0.8210 - val_precision: 0.8282\n",
      "Epoch 3/35\n",
      "20/20 [==============================] - 598s 30s/step - loss: 0.3499 - accuracy: 0.8504 - recall: 0.8689 - precision: 0.8376 - val_loss: 0.4790 - val_accuracy: 0.7946 - val_recall: 0.7444 - val_precision: 0.8259\n",
      "Epoch 4/35\n",
      "20/20 [==============================] - 621s 31s/step - loss: 0.3504 - accuracy: 0.8591 - recall: 0.8817 - precision: 0.8490 - val_loss: 0.4200 - val_accuracy: 0.8125 - val_recall: 0.8333 - val_precision: 0.7974\n",
      "Epoch 5/35\n",
      "20/20 [==============================] - 677s 34s/step - loss: 0.2786 - accuracy: 0.8862 - recall: 0.9125 - precision: 0.8736 - val_loss: 0.3594 - val_accuracy: 0.8326 - val_recall: 0.8531 - val_precision: 0.8036\n",
      "Epoch 6/35\n",
      "20/20 [==============================] - 677s 34s/step - loss: 0.2727 - accuracy: 0.8951 - recall: 0.9084 - precision: 0.8862 - val_loss: 0.3321 - val_accuracy: 0.8482 - val_recall: 0.8426 - val_precision: 0.8646\n",
      "Epoch 7/35\n",
      "20/20 [==============================] - 673s 34s/step - loss: 0.2631 - accuracy: 0.9083 - recall: 0.9295 - precision: 0.8934 - val_loss: 0.3815 - val_accuracy: 0.8214 - val_recall: 0.8065 - val_precision: 0.8216\n",
      "Epoch 8/35\n",
      "20/20 [==============================] - 669s 34s/step - loss: 0.2295 - accuracy: 0.9070 - recall: 0.9180 - precision: 0.8980 - val_loss: 0.3370 - val_accuracy: 0.8371 - val_recall: 0.8493 - val_precision: 0.8230\n",
      "Epoch 9/35\n",
      "20/20 [==============================] - 553s 28s/step - loss: 0.2548 - accuracy: 0.9018 - recall: 0.9181 - precision: 0.8826 - val_loss: 0.3340 - val_accuracy: 0.8438 - val_recall: 0.8195 - val_precision: 0.8358\n",
      "Epoch 10/35\n",
      "20/20 [==============================] - 497s 25s/step - loss: 0.2396 - accuracy: 0.9015 - recall: 0.9246 - precision: 0.8941 - val_loss: 0.3347 - val_accuracy: 0.8594 - val_recall: 0.8458 - val_precision: 0.8727\n",
      "Epoch 11/35\n",
      "20/20 [==============================] - 491s 25s/step - loss: 0.2336 - accuracy: 0.9226 - recall: 0.9422 - precision: 0.9073 - val_loss: 0.3511 - val_accuracy: 0.8661 - val_recall: 0.8761 - val_precision: 0.8609\n",
      "Epoch 12/35\n",
      "20/20 [==============================] - 540s 27s/step - loss: 0.2250 - accuracy: 0.9092 - recall: 0.9266 - precision: 0.8945 - val_loss: 0.3523 - val_accuracy: 0.8549 - val_recall: 0.8900 - val_precision: 0.8158\n",
      "Epoch 13/35\n",
      "20/20 [==============================] - 551s 28s/step - loss: 0.2171 - accuracy: 0.9219 - recall: 0.9379 - precision: 0.9096 - val_loss: 0.3504 - val_accuracy: 0.8728 - val_recall: 0.9437 - val_precision: 0.8321\n",
      "Epoch 14/35\n",
      "20/20 [==============================] - 558s 28s/step - loss: 0.2516 - accuracy: 0.9062 - recall: 0.9271 - precision: 0.8900 - val_loss: 0.3088 - val_accuracy: 0.8839 - val_recall: 0.9349 - val_precision: 0.8410\n",
      "Epoch 15/35\n",
      "20/20 [==============================] - 535s 27s/step - loss: 0.1928 - accuracy: 0.9293 - recall: 0.9508 - precision: 0.9076 - val_loss: 0.3322 - val_accuracy: 0.8482 - val_recall: 0.8991 - val_precision: 0.8099\n",
      "Epoch 16/35\n",
      "20/20 [==============================] - 536s 27s/step - loss: 0.1968 - accuracy: 0.9249 - recall: 0.9334 - precision: 0.9154 - val_loss: 0.3616 - val_accuracy: 0.8683 - val_recall: 0.9048 - val_precision: 0.8496\n",
      "Epoch 17/35\n",
      "20/20 [==============================] - 550s 28s/step - loss: 0.1956 - accuracy: 0.9256 - recall: 0.9450 - precision: 0.9133 - val_loss: 0.2971 - val_accuracy: 0.8705 - val_recall: 0.8980 - val_precision: 0.8696\n",
      "Epoch 18/35\n",
      "20/20 [==============================] - 515s 26s/step - loss: 0.1921 - accuracy: 0.9234 - recall: 0.9434 - precision: 0.9069 - val_loss: 0.3547 - val_accuracy: 0.8527 - val_recall: 0.8843 - val_precision: 0.8233\n",
      "Epoch 19/35\n",
      "20/20 [==============================] - 517s 26s/step - loss: 0.1826 - accuracy: 0.9308 - recall: 0.9373 - precision: 0.9249 - val_loss: 0.3089 - val_accuracy: 0.8795 - val_recall: 0.8874 - val_precision: 0.8717\n",
      "Epoch 20/35\n",
      "20/20 [==============================] - 513s 26s/step - loss: 0.2102 - accuracy: 0.9211 - recall: 0.9376 - precision: 0.9079 - val_loss: 0.3138 - val_accuracy: 0.8817 - val_recall: 0.9263 - val_precision: 0.8445\n",
      "Epoch 21/35\n",
      "20/20 [==============================] - 514s 26s/step - loss: 0.2093 - accuracy: 0.9318 - recall: 0.9506 - precision: 0.9176 - val_loss: 0.2943 - val_accuracy: 0.8839 - val_recall: 0.8816 - val_precision: 0.8894\n",
      "Epoch 22/35\n",
      "20/20 [==============================] - 562s 28s/step - loss: 0.1801 - accuracy: 0.9308 - recall: 0.9447 - precision: 0.9186 - val_loss: 0.3462 - val_accuracy: 0.8705 - val_recall: 0.9333 - val_precision: 0.8300\n",
      "Epoch 23/35\n",
      "20/20 [==============================] - 615s 31s/step - loss: 0.1871 - accuracy: 0.9293 - recall: 0.9549 - precision: 0.9111 - val_loss: 0.3493 - val_accuracy: 0.8393 - val_recall: 0.8431 - val_precision: 0.8113\n",
      "Epoch 24/35\n",
      "20/20 [==============================] - 543s 27s/step - loss: 0.1933 - accuracy: 0.9315 - recall: 0.9330 - precision: 0.9330 - val_loss: 0.2560 - val_accuracy: 0.9018 - val_recall: 0.9372 - val_precision: 0.8745\n",
      "Epoch 25/35\n",
      "20/20 [==============================] - 550s 28s/step - loss: 0.1816 - accuracy: 0.9293 - recall: 0.9458 - precision: 0.9176 - val_loss: 0.3590 - val_accuracy: 0.8504 - val_recall: 0.8853 - val_precision: 0.8213\n",
      "Epoch 26/35\n",
      "20/20 [==============================] - 579s 29s/step - loss: 0.1784 - accuracy: 0.9382 - recall: 0.9520 - precision: 0.9255 - val_loss: 0.3091 - val_accuracy: 0.8772 - val_recall: 0.8826 - val_precision: 0.8788\n",
      "Epoch 27/35\n",
      "20/20 [==============================] - 579s 29s/step - loss: 0.1934 - accuracy: 0.9315 - recall: 0.9390 - precision: 0.9252 - val_loss: 0.3355 - val_accuracy: 0.8594 - val_recall: 0.9296 - val_precision: 0.8049\n",
      "Epoch 28/35\n",
      "20/20 [==============================] - 558s 28s/step - loss: 0.1899 - accuracy: 0.9263 - recall: 0.9411 - precision: 0.9155 - val_loss: 0.2756 - val_accuracy: 0.8884 - val_recall: 0.9087 - val_precision: 0.8782\n",
      "Epoch 29/35\n",
      "20/20 [==============================] - 552s 28s/step - loss: 0.1860 - accuracy: 0.9330 - recall: 0.9524 - precision: 0.9205 - val_loss: 0.2568 - val_accuracy: 0.9129 - val_recall: 0.9399 - val_precision: 0.8975\n",
      "Epoch 30/35\n",
      "20/20 [==============================] - 539s 27s/step - loss: 0.1893 - accuracy: 0.9256 - recall: 0.9522 - precision: 0.9076 - val_loss: 0.2874 - val_accuracy: 0.8795 - val_recall: 0.8698 - val_precision: 0.8779\n",
      "Epoch 31/35\n",
      "20/20 [==============================] - 568s 29s/step - loss: 0.1839 - accuracy: 0.9318 - recall: 0.9418 - precision: 0.9187 - val_loss: 0.2820 - val_accuracy: 0.8862 - val_recall: 0.9425 - val_precision: 0.8486\n",
      "Epoch 32/35\n",
      "20/20 [==============================] - 626s 31s/step - loss: 0.1500 - accuracy: 0.9472 - recall: 0.9608 - precision: 0.9340 - val_loss: 0.2336 - val_accuracy: 0.8929 - val_recall: 0.9238 - val_precision: 0.8584\n",
      "Epoch 33/35\n",
      "20/20 [==============================] - 630s 32s/step - loss: 0.1819 - accuracy: 0.9345 - recall: 0.9654 - precision: 0.9127 - val_loss: 0.3034 - val_accuracy: 0.8750 - val_recall: 0.9266 - val_precision: 0.8347\n",
      "Epoch 34/35\n",
      "20/20 [==============================] - 617s 31s/step - loss: 0.1749 - accuracy: 0.9375 - recall: 0.9475 - precision: 0.9247 - val_loss: 0.2722 - val_accuracy: 0.8973 - val_recall: 0.9316 - val_precision: 0.8790\n",
      "Epoch 35/35\n",
      "20/20 [==============================] - 642s 32s/step - loss: 0.1967 - accuracy: 0.9152 - recall: 0.9303 - precision: 0.9003 - val_loss: 0.3147 - val_accuracy: 0.8728 - val_recall: 0.8959 - val_precision: 0.8534\n",
      "20161.854427337646\n"
     ]
    }
   ],
   "source": [
    "import time\n",
    "now = time.time()\n",
    "\n",
    "# fit model\n",
    "history = model.fit(train_it, \n",
    "                    steps_per_epoch=len(train_it)/7,\n",
    "                    validation_data=test_it, \n",
    "                    validation_steps=len(test_it)/7, \n",
    "                    epochs=35, \n",
    "                    verbose=1)\n",
    "\n",
    "print(time.time() - now)"
   ]
  },
  {
   "cell_type": "code",
   "execution_count": 6,
   "id": "42881233",
   "metadata": {
    "scrolled": true
   },
   "outputs": [],
   "source": [
    "# save model\n",
    "model.save('model_1C128N0.5DROPBATCH64,\\n\n",
    "20Ssteps35epochs_data2.2.1.h5')\n",
    "\n",
    "#Representa un modelo de 1 capa 128 Neuronas\n",
    "#Dropout de 0.5, Batch Size de 64 \n",
    "#20 steps por cada epoch y 35 epochs en total"
   ]
  },
  {
   "cell_type": "code",
   "execution_count": 5,
   "id": "38e8973a",
   "metadata": {},
   "outputs": [
    {
     "data": {
      "image/png": "[encoded data removed]",
      "text/plain": [
       "<Figure size 432x288 with 1 Axes>"
      ]
     },
     "metadata": {},
     "output_type": "display_data"
    },
    {
     "data": {
      "image/png": "[encoded data removed]",
      "text/plain": [
       "<Figure size 432x288 with 1 Axes>"
      ]
     },
     "metadata": {},
     "output_type": "display_data"
    }
   ],
   "source": [
    "#Plot loss and accuracy\n",
    "import matplotlib.pyplot as plt\n",
    "import matplotlib.image as mpimg\n",
    "import seaborn as sns\n",
    "import matplotlib.pyplot as plt\n",
    "\n",
    "sns.set()\n",
    "# summarize history for accuracy\n",
    "plt.plot(history.history['accuracy'], color = 'red')\n",
    "plt.plot(history.history['val_accuracy'], color='blue')\n",
    "plt.title('model accuracy')\n",
    "plt.ylabel('accuracy')\n",
    "plt.xlabel('epoch')\n",
    "plt.legend(['Train', 'Validation'], loc='upper left')\n",
    "plt.show()\n",
    "# summarize history for loss\n",
    "plt.plot(history.history['loss'], color='red')\n",
    "plt.plot(history.history['val_loss'], color='blue')\n",
    "plt.title('model loss')\n",
    "plt.ylabel('loss')\n",
    "plt.xlabel('epoch')\n",
    "plt.legend(['Train', 'Validation'], loc='upper left')\n",
    "plt.show()"
   ]
  },
  {
   "cell_type": "code",
   "execution_count": 7,
   "id": "7cb8774e",
   "metadata": {
    "scrolled": true
   },
   "outputs": [
    {
     "name": "stdout",
     "output_type": "stream",
     "text": [
      "Found 3000 images belonging to 2 classes.\n"
     ]
    },
    {
     "name": "stderr",
     "output_type": "stream",
     "text": [
      "c:\\users\\usuario\\appdata\\local\\programs\\python\\python39\\lib\\site-packages\\keras\\engine\\training.py:2035: UserWarning: `Model.predict_generator` is deprecated and will be removed in a future version. Please use `Model.predict`, which supports generators.\n",
      "  warnings.warn('`Model.predict_generator` is deprecated and '\n"
     ]
    },
    {
     "name": "stdout",
     "output_type": "stream",
     "text": [
      "47/47 [==============================] - 988s 21s/step\n"
     ]
    }
   ],
   "source": [
    "#MATRIZ DE CONFUSIÓN\n",
    "\n",
    "from sklearn.metrics import confusion_matrix, f1_score, roc_curve, precision_score, recall_score, accuracy_score, roc_auc_score\n",
    "from sklearn import metrics\n",
    "from mlxtend.plotting import plot_confusion_matrix\n",
    "from keras.models import load_model\n",
    "from keras.preprocessing.image import ImageDataGenerator \n",
    "import numpy as np\n",
    "import matplotlib.pyplot as plt\n",
    "%matplotlib inline\n",
    "\n",
    "datagen_test = ImageDataGenerator(featurewise_center=True)\n",
    "datagen_test.mean = [123.68, 116.779, 103.939]\n",
    "test_it = datagen_test.flow_from_directory('Dataset/test2/',\n",
    "                                            class_mode='binary',\n",
    "                                            batch_size=64,\n",
    "                                            target_size=(224, 224),\n",
    "                                            shuffle = False)\n",
    "\n",
    "custom_Model= load_model('model_1C128N0.5DROPBATCH64,20Ssteps35epochs_data2.2.1.h5')\n",
    "\n",
    "predictions = custom_Model.predict_generator(generator=test_it, verbose=1)"
   ]
  },
  {
   "cell_type": "code",
   "execution_count": 8,
   "id": "0b8e4b16",
   "metadata": {},
   "outputs": [],
   "source": [
    "y_pred = [1 * (x[0]>=0.5) for x in predictions]\n",
    "y_real = test_it.classes\n",
    "names = ['0.-SinBacterias','1.-ConBacterias']"
   ]
  },
  {
   "cell_type": "code",
   "execution_count": 9,
   "id": "db2c1364",
   "metadata": {},
   "outputs": [
    {
     "data": {
      "image/png": "[encoded data removed]",
      "text/plain": [
       "<Figure size 432x288 with 1 Axes>"
      ]
     },
     "metadata": {
      "needs_background": "light"
     },
     "output_type": "display_data"
    }
   ],
   "source": [
    "matc=confusion_matrix(y_real, y_pred)\n",
    "\n",
    "plot_confusion_matrix(conf_mat=matc, class_names = names, show_normed=False)\n",
    "plt.tight_layout()"
   ]
  },
  {
   "cell_type": "code",
   "execution_count": 10,
   "id": "887a6898",
   "metadata": {
    "scrolled": true
   },
   "outputs": [
    {
     "name": "stdout",
     "output_type": "stream",
     "text": [
      "              precision    recall  f1-score   support\n",
      "\n",
      "           0     0.8779    0.8960    0.8868      1500\n",
      "           1     0.8938    0.8753    0.8845      1500\n",
      "\n",
      "    accuracy                         0.8857      3000\n",
      "   macro avg     0.8858    0.8857    0.8857      3000\n",
      "weighted avg     0.8858    0.8857    0.8857      3000\n",
      "\n"
     ]
    }
   ],
   "source": [
    "print(metrics.classification_report(y_real,y_pred, digits = 4))"
   ]
  },
  {
   "cell_type": "code",
   "execution_count": null,
   "id": "c4fed8dc",
   "metadata": {},
   "outputs": [],
   "source": []
  }
 ],
 "metadata": {
  "kernelspec": {
   "display_name": "Python 3 (ipykernel)",
   "language": "python",
   "name": "python3"
  },
  "language_info": {
   "codemirror_mode": {
    "name": "ipython",
    "version": 3
   },
   "file_extension": ".py",
   "mimetype": "text/x-python",
   "name": "python",
   "nbconvert_exporter": "python",
   "pygments_lexer": "ipython3",
   "version": "3.10.6"
  }
 },
 "nbformat": 4,
 "nbformat_minor": 5
}
