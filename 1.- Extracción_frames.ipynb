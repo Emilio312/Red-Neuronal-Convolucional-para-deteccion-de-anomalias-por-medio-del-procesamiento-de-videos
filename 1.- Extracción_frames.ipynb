{
 "cells": [
  {
   "cell_type": "code",
   "execution_count": null,
   "id": "f682134e",
   "metadata": {},
   "outputs": [],
   "source": [
    "import cv2\n",
    "import nframe as nf\n",
    "\n",
    "videopath = 'DataSernapesca//Con Bacterias//120124//01-09-2020//T5_Cockburn_14.avi'\n",
    "cap = cv2.VideoCapture(videopath)\n",
    "\n",
    "cont = 1\n",
    "id = 108947\n",
    "while (cap.isOpened()):\n",
    "    ret, frame = cap.read()\n",
    "\n",
    "    if ret == False:\n",
    "        break\n",
    "\n",
    "    if (nf.msf(3.20) <= cont <= nf.msf(4.35)) or \n",
    "        (nf.msf(7.12) <= cont <= nf.msf(7.32)) or \n",
    "        (nf.msf(13.45) <= cont <= nf.msf(14.20)):\n",
    "        cv2.imwrite(f'DataSernapesca//Con Bacterias//120124//01-09-2020//T5_Cockburn_14 (SIN)/SinBact{id}.jpg', frame)\n",
    "                    \n",
    "        id = id+1\n",
    "    cont = cont + 1\n",
    "\n",
    "    if cont == (nf.msf(14.20)+1):\n",
    "        print(id)\n",
    "        break\n",
    "cap.release()"
   ]
  }
 ],
 "metadata": {
  "kernelspec": {
   "display_name": "Python 3 (ipykernel)",
   "language": "python",
   "name": "python3"
  },
  "language_info": {
   "codemirror_mode": {
    "name": "ipython",
    "version": 3
   },
   "file_extension": ".py",
   "mimetype": "text/x-python",
   "name": "python",
   "nbconvert_exporter": "python",
   "pygments_lexer": "ipython3",
   "version": "3.10.6"
  }
 },
 "nbformat": 4,
 "nbformat_minor": 5
}
