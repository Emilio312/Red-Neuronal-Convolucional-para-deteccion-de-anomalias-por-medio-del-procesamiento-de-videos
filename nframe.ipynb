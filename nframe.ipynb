{
 "cells": [
  {
   "cell_type": "code",
   "execution_count": 1,
   "id": "2890b814",
   "metadata": {},
   "outputs": [
    {
     "data": {
      "text/plain": [
       "4890.0"
      ]
     },
     "execution_count": 1,
     "metadata": {},
     "output_type": "execute_result"
    }
   ],
   "source": [
    "import math\n",
    "\n",
    "def msf(numero):\n",
    "    parte_decimal, parte_entera = math.modf(numero)\n",
    "    decimal = 100*(round(parte_decimal,3))\n",
    "    frame = (parte_entera*60+decimal)*30\n",
    "    return frame\n",
    "\n",
    "msf(2.43)"
   ]
  },
  {
   "cell_type": "code",
   "execution_count": null,
   "id": "6382feed",
   "metadata": {},
   "outputs": [],
   "source": []
  }
 ],
 "metadata": {
  "kernelspec": {
   "display_name": "Python 3 (ipykernel)",
   "language": "python",
   "name": "python3"
  },
  "language_info": {
   "codemirror_mode": {
    "name": "ipython",
    "version": 3
   },
   "file_extension": ".py",
   "mimetype": "text/x-python",
   "name": "python",
   "nbconvert_exporter": "python",
   "pygments_lexer": "ipython3",
   "version": "3.10.6"
  }
 },
 "nbformat": 4,
 "nbformat_minor": 5
}
